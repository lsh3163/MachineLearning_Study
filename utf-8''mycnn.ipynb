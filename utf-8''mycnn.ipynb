{
  "cells": [
    {
      "metadata": {
        "trusted": true
      },
      "cell_type": "code",
      "source": "from PIL import Image\nimport numpy as np\nimport glob\nimport os\nimport matplotlib.pyplot as plt\n",
      "execution_count": 1,
      "outputs": []
    },
    {
      "metadata": {
        "trusted": true
      },
      "cell_type": "code",
      "source": "import tensorflow as tf\nimport keras\nprint('TF', tf.__version__ )\nprint('KERAS', keras.__version__ )\n",
      "execution_count": 2,
      "outputs": [
        {
          "name": "stdout",
          "output_type": "stream",
          "text": "TF 1.10.0\nKERAS 2.2.2\n"
        },
        {
          "name": "stderr",
          "output_type": "stream",
          "text": "Using TensorFlow backend.\n"
        }
      ]
    },
    {
      "metadata": {
        "trusted": true
      },
      "cell_type": "code",
      "source": "#!pip install  --upgrade --ignore-installed tensorflow\n",
      "execution_count": 3,
      "outputs": []
    },
    {
      "metadata": {
        "trusted": true
      },
      "cell_type": "code",
      "source": "files = glob.glob('img/*.jpg')\nfiles.sort()\nprint(files)",
      "execution_count": 5,
      "outputs": [
        {
          "name": "stdout",
          "output_type": "stream",
          "text": "['img/01_d.jpg', 'img/01_f.jpg', 'img/01_l.jpg', 'img/01_r.jpg', 'img/01_u.jpg', 'img/02_d.jpg', 'img/02_f.jpg', 'img/02_l.jpg', 'img/02_r.jpg', 'img/02_u.jpg', 'img/03_d.jpg', 'img/03_f.jpg', 'img/03_l.jpg', 'img/03_r.jpg', 'img/03_u.jpg', 'img/04_d.jpg', 'img/04_f.jpg', 'img/04_l.jpg', 'img/04_r.jpg', 'img/04_u.jpg', 'img/05_d.jpg', 'img/05_f.jpg', 'img/05_l.jpg', 'img/05_r.jpg', 'img/05_u.jpg', 'img/06_d.jpg', 'img/06_f.jpg', 'img/06_l.jpg', 'img/06_r.jpg', 'img/06_u.jpg', 'img/07_d.jpg', 'img/07_f.jpg', 'img/07_l.jpg', 'img/07_r.jpg', 'img/07_u.jpg', 'img/08_d.jpg', 'img/08_f.jpg', 'img/08_l.jpg', 'img/08_r.jpg', 'img/08_u.jpg', 'img/09_d.jpg', 'img/09_f.jpg', 'img/09_l.jpg', 'img/09_r.jpg', 'img/09_u.jpg', 'img/10_d.jpg', 'img/10_f.jpg', 'img/10_l.jpg', 'img/10_r.jpg', 'img/10_u.jpg']\n"
        }
      ]
    },
    {
      "metadata": {
        "trusted": true
      },
      "cell_type": "code",
      "source": "bnames = [os.path.basename(f)  for f in files]\nprint(bnames)\n",
      "execution_count": 6,
      "outputs": [
        {
          "name": "stdout",
          "output_type": "stream",
          "text": "['01_d.jpg', '01_f.jpg', '01_l.jpg', '01_r.jpg', '01_u.jpg', '02_d.jpg', '02_f.jpg', '02_l.jpg', '02_r.jpg', '02_u.jpg', '03_d.jpg', '03_f.jpg', '03_l.jpg', '03_r.jpg', '03_u.jpg', '04_d.jpg', '04_f.jpg', '04_l.jpg', '04_r.jpg', '04_u.jpg', '05_d.jpg', '05_f.jpg', '05_l.jpg', '05_r.jpg', '05_u.jpg', '06_d.jpg', '06_f.jpg', '06_l.jpg', '06_r.jpg', '06_u.jpg', '07_d.jpg', '07_f.jpg', '07_l.jpg', '07_r.jpg', '07_u.jpg', '08_d.jpg', '08_f.jpg', '08_l.jpg', '08_r.jpg', '08_u.jpg', '09_d.jpg', '09_f.jpg', '09_l.jpg', '09_r.jpg', '09_u.jpg', '10_d.jpg', '10_f.jpg', '10_l.jpg', '10_r.jpg', '10_u.jpg']\n"
        }
      ]
    },
    {
      "metadata": {
        "trusted": true
      },
      "cell_type": "code",
      "source": "img = Image.open(files[0])\nprint(img, img.size)\nimgarr = np.array(img, dtype='float32')\nprint(imgarr.shape)\n\n",
      "execution_count": 8,
      "outputs": [
        {
          "name": "stdout",
          "output_type": "stream",
          "text": "<PIL.JpegImagePlugin.JpegImageFile image mode=RGB size=100x100 at 0x7F844D2429E8> (100, 100)\n(100, 100, 3)\n"
        }
      ]
    },
    {
      "metadata": {
        "trusted": true
      },
      "cell_type": "code",
      "source": "img = img.convert('L') # gray\nprint(img, img.size)\nimgarr = np.asarray(img, dtype='float32')\nprint(imgarr.shape)",
      "execution_count": 9,
      "outputs": [
        {
          "name": "stdout",
          "output_type": "stream",
          "text": "<PIL.Image.Image image mode=L size=100x100 at 0x7F844D2428D0> (100, 100)\n(100, 100)\n"
        }
      ]
    },
    {
      "metadata": {
        "trusted": true
      },
      "cell_type": "code",
      "source": "def get_index_and_view_of_img(imgname):\n    imgname = imgname.replace('.jpg', '')\n    index, view = imgname.split('_')\n    return index, view\n",
      "execution_count": 11,
      "outputs": []
    },
    {
      "metadata": {
        "trusted": true
      },
      "cell_type": "code",
      "source": "training = []\ntest = []\nfor f in files:\n    bname = os.path.basename(f)\n    index, view = get_index_and_view_of_img(bname)\n    print(f, bname, index, view)\n    if view in ['f']:\n        training.append((f, int(index)))\n    elif view in ['u', 'd']:\n        test.append((f, int(index)))",
      "execution_count": 13,
      "outputs": [
        {
          "name": "stdout",
          "output_type": "stream",
          "text": "img/01_d.jpg 01_d.jpg 01 d\nimg/01_f.jpg 01_f.jpg 01 f\nimg/01_l.jpg 01_l.jpg 01 l\nimg/01_r.jpg 01_r.jpg 01 r\nimg/01_u.jpg 01_u.jpg 01 u\nimg/02_d.jpg 02_d.jpg 02 d\nimg/02_f.jpg 02_f.jpg 02 f\nimg/02_l.jpg 02_l.jpg 02 l\nimg/02_r.jpg 02_r.jpg 02 r\nimg/02_u.jpg 02_u.jpg 02 u\nimg/03_d.jpg 03_d.jpg 03 d\nimg/03_f.jpg 03_f.jpg 03 f\nimg/03_l.jpg 03_l.jpg 03 l\nimg/03_r.jpg 03_r.jpg 03 r\nimg/03_u.jpg 03_u.jpg 03 u\nimg/04_d.jpg 04_d.jpg 04 d\nimg/04_f.jpg 04_f.jpg 04 f\nimg/04_l.jpg 04_l.jpg 04 l\nimg/04_r.jpg 04_r.jpg 04 r\nimg/04_u.jpg 04_u.jpg 04 u\nimg/05_d.jpg 05_d.jpg 05 d\nimg/05_f.jpg 05_f.jpg 05 f\nimg/05_l.jpg 05_l.jpg 05 l\nimg/05_r.jpg 05_r.jpg 05 r\nimg/05_u.jpg 05_u.jpg 05 u\nimg/06_d.jpg 06_d.jpg 06 d\nimg/06_f.jpg 06_f.jpg 06 f\nimg/06_l.jpg 06_l.jpg 06 l\nimg/06_r.jpg 06_r.jpg 06 r\nimg/06_u.jpg 06_u.jpg 06 u\nimg/07_d.jpg 07_d.jpg 07 d\nimg/07_f.jpg 07_f.jpg 07 f\nimg/07_l.jpg 07_l.jpg 07 l\nimg/07_r.jpg 07_r.jpg 07 r\nimg/07_u.jpg 07_u.jpg 07 u\nimg/08_d.jpg 08_d.jpg 08 d\nimg/08_f.jpg 08_f.jpg 08 f\nimg/08_l.jpg 08_l.jpg 08 l\nimg/08_r.jpg 08_r.jpg 08 r\nimg/08_u.jpg 08_u.jpg 08 u\nimg/09_d.jpg 09_d.jpg 09 d\nimg/09_f.jpg 09_f.jpg 09 f\nimg/09_l.jpg 09_l.jpg 09 l\nimg/09_r.jpg 09_r.jpg 09 r\nimg/09_u.jpg 09_u.jpg 09 u\nimg/10_d.jpg 10_d.jpg 10 d\nimg/10_f.jpg 10_f.jpg 10 f\nimg/10_l.jpg 10_l.jpg 10 l\nimg/10_r.jpg 10_r.jpg 10 r\nimg/10_u.jpg 10_u.jpg 10 u\n"
        }
      ]
    },
    {
      "metadata": {
        "trusted": true
      },
      "cell_type": "code",
      "source": "print(len(training))\nprint(len(test))",
      "execution_count": 14,
      "outputs": [
        {
          "name": "stdout",
          "output_type": "stream",
          "text": "10\n20\n"
        }
      ]
    },
    {
      "metadata": {
        "trusted": true
      },
      "cell_type": "code",
      "source": "print(training[0], training[-1])\nprint(test[0], test[-1])\n",
      "execution_count": 15,
      "outputs": [
        {
          "name": "stdout",
          "output_type": "stream",
          "text": "('img/01_f.jpg', 1) ('img/10_f.jpg', 10)\n('img/01_d.jpg', 1) ('img/10_u.jpg', 10)\n"
        }
      ]
    },
    {
      "metadata": {
        "trusted": true
      },
      "cell_type": "code",
      "source": "# one-hot encoding\ndef onehot(value, total):\n    encoding = [1 if i == value else 0 for i in range(total)]\n    return encoding\n\n# 여러 이미지 출력. 28x28 크기\ndef draw_digits(imgdata, imgshape=(100, 100)):\n    num_imgs = imgdata.shape[0]\n    fig, ax = plt.subplots(1, num_imgs, figsize=(num_imgs, 1))\n    for i in range(num_imgs):\n        ax[i].set_axis_off()\n        ax[i].imshow(np.reshape(imgdata[i], imgshape))\n    plt.show()",
      "execution_count": 19,
      "outputs": []
    },
    {
      "metadata": {
        "trusted": true
      },
      "cell_type": "code",
      "source": "def load_img_files(filelist, limit=0):\n    imgarrlist = []\n    for i,f in enumerate(filelist):\n        if limit > 0 and i >= limit: # 최대 개수\n            break            \n        img = Image.open(f)\n        img = img.convert('L') # gray\n        #print('PIL', img.size)\n        imgarr = np.array(img, dtype='float32')\n        imgarr = imgarr / 255.0\n        #print('NP', imgarr.shape)\n        imgarrlist.append(imgarr)\n    merged = np.vstack(imgarrlist)\n    # 모든 이미지가 동일 크기라고 가정함.\n    #merged = merged.reXXXX((len(imgarrlist), *imgarr.shape)) \n    merged = merged.reshape((len(imgarrlist), 100, 100)) \n    print('merged SHAPE', merged.shape)\n    return merged",
      "execution_count": 25,
      "outputs": []
    },
    {
      "metadata": {
        "trusted": true
      },
      "cell_type": "code",
      "source": "trainingX = load_img_files([f[0] for f in training])\ntrainingY = np.array([onehot(f[1], 11) for f in training])\n#print(trainingX)\nprint(trainingY)",
      "execution_count": 26,
      "outputs": [
        {
          "name": "stdout",
          "output_type": "stream",
          "text": "merged SHAPE (10, 100, 100)\n[[0 1 0 0 0 0 0 0 0 0 0]\n [0 0 1 0 0 0 0 0 0 0 0]\n [0 0 0 1 0 0 0 0 0 0 0]\n [0 0 0 0 1 0 0 0 0 0 0]\n [0 0 0 0 0 1 0 0 0 0 0]\n [0 0 0 0 0 0 1 0 0 0 0]\n [0 0 0 0 0 0 0 1 0 0 0]\n [0 0 0 0 0 0 0 0 1 0 0]\n [0 0 0 0 0 0 0 0 0 1 0]\n [0 0 0 0 0 0 0 0 0 0 1]]\n"
        }
      ]
    },
    {
      "metadata": {
        "trusted": true
      },
      "cell_type": "code",
      "source": "testX = load_img_files([f[0] for f in test])\ntestY = np.array([onehot(f[1], 11) for f in test])\n#print(testX)\nprint(testY)",
      "execution_count": 37,
      "outputs": [
        {
          "name": "stdout",
          "output_type": "stream",
          "text": "merged SHAPE (20, 100, 100)\n[[0 1 0 0 0 0 0 0 0 0 0]\n [0 1 0 0 0 0 0 0 0 0 0]\n [0 0 1 0 0 0 0 0 0 0 0]\n [0 0 1 0 0 0 0 0 0 0 0]\n [0 0 0 1 0 0 0 0 0 0 0]\n [0 0 0 1 0 0 0 0 0 0 0]\n [0 0 0 0 1 0 0 0 0 0 0]\n [0 0 0 0 1 0 0 0 0 0 0]\n [0 0 0 0 0 1 0 0 0 0 0]\n [0 0 0 0 0 1 0 0 0 0 0]\n [0 0 0 0 0 0 1 0 0 0 0]\n [0 0 0 0 0 0 1 0 0 0 0]\n [0 0 0 0 0 0 0 1 0 0 0]\n [0 0 0 0 0 0 0 1 0 0 0]\n [0 0 0 0 0 0 0 0 1 0 0]\n [0 0 0 0 0 0 0 0 1 0 0]\n [0 0 0 0 0 0 0 0 0 1 0]\n [0 0 0 0 0 0 0 0 0 1 0]\n [0 0 0 0 0 0 0 0 0 0 1]\n [0 0 0 0 0 0 0 0 0 0 1]]\n"
        }
      ]
    },
    {
      "metadata": {
        "trusted": true
      },
      "cell_type": "code",
      "source": "from keras.utils import np_utils\nfrom keras.models import Sequential\nfrom keras.layers import Dense, Activation\nfrom keras.layers import Conv2D, MaxPooling2D, Flatten\nwidth = 100\nheight = 100\nmodel = Sequential()\nmodel.add(Conv2D(32, (3, 3), activation='relu',\n                 padding='same',  # 'valid', 'same'\n                 input_shape=(width, height, 1)))\nmodel.add(MaxPooling2D(pool_size=(2, 2)))\nmodel.add(Conv2D(64, (3, 3), activation='relu',\n                padding='same'))\nmodel.add(MaxPooling2D(pool_size=(2, 2)))\nmodel.add(Flatten())\nmodel.add(Dense(64, activation='relu'))\nmodel.add(Dense(11, activation='softmax'))\n\n# 3. 모델 학습과정 설정하기\nmodel.compile(loss='categorical_crossentropy', optimizer='adam', metrics=['accuracy'])",
      "execution_count": 28,
      "outputs": []
    },
    {
      "metadata": {
        "trusted": true
      },
      "cell_type": "code",
      "source": "for layer in model.layers:\n    print('IN', layer.input_shape, 'OUT', layer.output_shape)\n\n#print(model.layers[0].get_weights())\n",
      "execution_count": 31,
      "outputs": [
        {
          "name": "stdout",
          "output_type": "stream",
          "text": "IN (None, 100, 100, 1) OUT (None, 100, 100, 32)\nIN (None, 100, 100, 32) OUT (None, 50, 50, 32)\nIN (None, 50, 50, 32) OUT (None, 50, 50, 64)\nIN (None, 50, 50, 64) OUT (None, 25, 25, 64)\nIN (None, 25, 25, 64) OUT (None, 40000)\nIN (None, 40000) OUT (None, 64)\nIN (None, 64) OUT (None, 11)\n"
        }
      ]
    },
    {
      "metadata": {
        "trusted": true
      },
      "cell_type": "code",
      "source": "# 4. 모델 학습시키기\nhist = model.fit(trainingX.reshape((-1, width, height, 1)), \n                 trainingY, \n                 epochs=40, batch_size=10, shuffle=True)\n",
      "execution_count": 33,
      "outputs": [
        {
          "name": "stdout",
          "output_type": "stream",
          "text": "Epoch 1/40\n10/10 [==============================] - 0s 19ms/step - loss: 4.8432e-05 - acc: 1.0000\nEpoch 2/40\n10/10 [==============================] - 0s 20ms/step - loss: 4.3907e-05 - acc: 1.0000\nEpoch 3/40\n10/10 [==============================] - 0s 18ms/step - loss: 4.0665e-05 - acc: 1.0000\nEpoch 4/40\n10/10 [==============================] - 0s 19ms/step - loss: 3.8346e-05 - acc: 1.0000\nEpoch 5/40\n10/10 [==============================] - 0s 20ms/step - loss: 3.6635e-05 - acc: 1.0000\nEpoch 6/40\n10/10 [==============================] - 0s 17ms/step - loss: 3.5336e-05 - acc: 1.0000\nEpoch 7/40\n10/10 [==============================] - 0s 18ms/step - loss: 3.4287e-05 - acc: 1.0000\nEpoch 8/40\n10/10 [==============================] - 0s 18ms/step - loss: 3.3405e-05 - acc: 1.0000\nEpoch 9/40\n10/10 [==============================] - 0s 18ms/step - loss: 3.2558e-05 - acc: 1.0000\nEpoch 10/40\n10/10 [==============================] - 0s 20ms/step - loss: 3.1736e-05 - acc: 1.0000\nEpoch 11/40\n10/10 [==============================] - 0s 20ms/step - loss: 3.0871e-05 - acc: 1.0000\nEpoch 12/40\n10/10 [==============================] - 0s 19ms/step - loss: 3.0007e-05 - acc: 1.0000\nEpoch 13/40\n10/10 [==============================] - 0s 20ms/step - loss: 2.9065e-05 - acc: 1.0000\nEpoch 14/40\n10/10 [==============================] - 0s 18ms/step - loss: 2.8105e-05 - acc: 1.0000\nEpoch 15/40\n10/10 [==============================] - 0s 19ms/step - loss: 2.7128e-05 - acc: 1.0000\nEpoch 16/40\n10/10 [==============================] - 0s 18ms/step - loss: 2.6144e-05 - acc: 1.0000\nEpoch 17/40\n10/10 [==============================] - 0s 18ms/step - loss: 2.5166e-05 - acc: 1.0000\nEpoch 18/40\n10/10 [==============================] - 0s 18ms/step - loss: 2.4225e-05 - acc: 1.0000\nEpoch 19/40\n10/10 [==============================] - 0s 17ms/step - loss: 2.3324e-05 - acc: 1.0000\nEpoch 20/40\n10/10 [==============================] - 0s 19ms/step - loss: 2.2460e-05 - acc: 1.0000\nEpoch 21/40\n10/10 [==============================] - 0s 18ms/step - loss: 2.1673e-05 - acc: 1.0000\nEpoch 22/40\n10/10 [==============================] - 0s 18ms/step - loss: 2.0916e-05 - acc: 1.0000\nEpoch 23/40\n10/10 [==============================] - 0s 19ms/step - loss: 2.0260e-05 - acc: 1.0000\nEpoch 24/40\n10/10 [==============================] - 0s 17ms/step - loss: 1.9646e-05 - acc: 1.0000\nEpoch 25/40\n10/10 [==============================] - 0s 18ms/step - loss: 1.9110e-05 - acc: 1.0000\nEpoch 26/40\n10/10 [==============================] - 0s 18ms/step - loss: 1.8621e-05 - acc: 1.0000\nEpoch 27/40\n10/10 [==============================] - 0s 18ms/step - loss: 1.8186e-05 - acc: 1.0000\nEpoch 28/40\n10/10 [==============================] - 0s 18ms/step - loss: 1.7816e-05 - acc: 1.0000\nEpoch 29/40\n10/10 [==============================] - 0s 17ms/step - loss: 1.7477e-05 - acc: 1.0000\nEpoch 30/40\n10/10 [==============================] - 0s 18ms/step - loss: 1.7185e-05 - acc: 1.0000\nEpoch 31/40\n10/10 [==============================] - 0s 18ms/step - loss: 1.6922e-05 - acc: 1.0000\nEpoch 32/40\n10/10 [==============================] - 0s 18ms/step - loss: 1.6678e-05 - acc: 1.0000\nEpoch 33/40\n10/10 [==============================] - 0s 19ms/step - loss: 1.6487e-05 - acc: 1.0000\nEpoch 34/40\n10/10 [==============================] - 0s 18ms/step - loss: 1.6326e-05 - acc: 1.0000\nEpoch 35/40\n10/10 [==============================] - 0s 17ms/step - loss: 1.6159e-05 - acc: 1.0000\nEpoch 36/40\n10/10 [==============================] - 0s 18ms/step - loss: 1.6004e-05 - acc: 1.0000\nEpoch 37/40\n10/10 [==============================] - 0s 18ms/step - loss: 1.5873e-05 - acc: 1.0000\nEpoch 38/40\n10/10 [==============================] - 0s 18ms/step - loss: 1.5742e-05 - acc: 1.0000\nEpoch 39/40\n10/10 [==============================] - 0s 19ms/step - loss: 1.5629e-05 - acc: 1.0000\nEpoch 40/40\n10/10 [==============================] - 0s 20ms/step - loss: 1.5521e-05 - acc: 1.0000\n"
        }
      ]
    },
    {
      "metadata": {
        "trusted": true
      },
      "cell_type": "code",
      "source": "# 5. 학습과정 살펴보기\n%matplotlib inline\nimport matplotlib.pyplot as plt\n\nfig, loss_ax = plt.subplots()\nacc_ax = loss_ax.twinx()\n\nloss_ax.plot(hist.history['loss'], 'y', label='train loss')\n#loss_ax.set_ylim([0.0, 0.5])\nacc_ax.plot(hist.history['acc'], 'b', label='train acc')\n#acc_ax.set_ylim([0.8, 1.0])\nloss_ax.set_xlabel('epoch')\nloss_ax.set_ylabel('loss')\nacc_ax.set_ylabel('accuray')\nloss_ax.legend(loc='upper left')\nacc_ax.legend(loc='lower left')\n\nplt.show()\n",
      "execution_count": 34,
      "outputs": [
        {
          "data": {
            "image/png": "[encoded data removed]",
            "text/plain": "<matplotlib.figure.Figure at 0x7f844be40fd0>"
          },
          "metadata": {},
          "output_type": "display_data"
        }
      ]
    },
    {
      "metadata": {
        "scrolled": true,
        "trusted": true
      },
      "cell_type": "code",
      "source": "# 7. 모델 사용하기\nYpr = model.predict(testX.reshape((-1, width, height, 1)))\n#draw_digits(X_te)\n# 예측 결과 보기\nprint('정답', np.argmax(testY, axis=1))\nprint('예측', np.argmax(Ypr, axis=1))\ncmp = np.argmax(testY, axis=1) - np.argmax(Ypr, axis=1)\n#print(cmp)\ncorrect = cmp == 0\n#print(correct)\nacc = correct.sum()\nratio = float(acc) / len(testY) * 100\nprint('정확도 [%d/%d] %.1f %%' % (acc, len(testY), ratio))",
      "execution_count": 38,
      "outputs": [
        {
          "name": "stdout",
          "output_type": "stream",
          "text": "정답 [ 1  1  2  2  3  3  4  4  5  5  6  6  7  7  8  8  9  9 10 10]\n예측 [ 1  1  2  1  3  6  4  1  5  5  6  6  7  7  8  7  9  7 10 10]\n정확도 [15/20] 75.0 %\n"
        }
      ]
    },
    {
      "metadata": {
        "trusted": true
      },
      "cell_type": "code",
      "source": "for f, y, y2 in zip(test, testY, Ypr):\n    #print(f, y, y2, np.argmax(y) == np.argmax(y2))\n    print(f, y, ['%.3f' % v for v in y2], np.argmax(y) == np.argmax(y2))",
      "execution_count": 39,
      "outputs": [
        {
          "name": "stdout",
          "output_type": "stream",
          "text": "('img/01_d.jpg', 1) [0 1 0 0 0 0 0 0 0 0 0] ['0.000', '1.000', '0.000', '0.000', '0.000', '0.000', '0.000', '0.000', '0.000', '0.000', '0.000'] True\n('img/01_u.jpg', 1) [0 1 0 0 0 0 0 0 0 0 0] ['0.000', '1.000', '0.000', '0.000', '0.000', '0.000', '0.000', '0.000', '0.000', '0.000', '0.000'] True\n('img/02_d.jpg', 2) [0 0 1 0 0 0 0 0 0 0 0] ['0.000', '0.000', '0.998', '0.000', '0.000', '0.002', '0.000', '0.000', '0.000', '0.000', '0.000'] True\n('img/02_u.jpg', 2) [0 0 1 0 0 0 0 0 0 0 0] ['0.000', '1.000', '0.000', '0.000', '0.000', '0.000', '0.000', '0.000', '0.000', '0.000', '0.000'] False\n('img/03_d.jpg', 3) [0 0 0 1 0 0 0 0 0 0 0] ['0.000', '0.000', '0.000', '1.000', '0.000', '0.000', '0.000', '0.000', '0.000', '0.000', '0.000'] True\n('img/03_u.jpg', 3) [0 0 0 1 0 0 0 0 0 0 0] ['0.000', '0.000', '0.000', '0.138', '0.000', '0.225', '0.622', '0.014', '0.000', '0.000', '0.000'] False\n('img/04_d.jpg', 4) [0 0 0 0 1 0 0 0 0 0 0] ['0.000', '0.000', '0.000', '0.000', '1.000', '0.000', '0.000', '0.000', '0.000', '0.000', '0.000'] True\n('img/04_u.jpg', 4) [0 0 0 0 1 0 0 0 0 0 0] ['0.000', '1.000', '0.000', '0.000', '0.000', '0.000', '0.000', '0.000', '0.000', '0.000', '0.000'] False\n('img/05_d.jpg', 5) [0 0 0 0 0 1 0 0 0 0 0] ['0.000', '0.000', '0.000', '0.000', '0.000', '1.000', '0.000', '0.000', '0.000', '0.000', '0.000'] True\n('img/05_u.jpg', 5) [0 0 0 0 0 1 0 0 0 0 0] ['0.000', '0.000', '0.000', '0.000', '0.000', '1.000', '0.000', '0.000', '0.000', '0.000', '0.000'] True\n('img/06_d.jpg', 6) [0 0 0 0 0 0 1 0 0 0 0] ['0.000', '0.000', '0.000', '0.024', '0.000', '0.004', '0.945', '0.027', '0.000', '0.000', '0.000'] True\n('img/06_u.jpg', 6) [0 0 0 0 0 0 1 0 0 0 0] ['0.000', '0.000', '0.000', '0.000', '0.000', '0.013', '0.938', '0.049', '0.000', '0.000', '0.000'] True\n('img/07_d.jpg', 7) [0 0 0 0 0 0 0 1 0 0 0] ['0.000', '0.000', '0.000', '0.000', '0.000', '0.000', '0.000', '1.000', '0.000', '0.000', '0.000'] True\n('img/07_u.jpg', 7) [0 0 0 0 0 0 0 1 0 0 0] ['0.000', '0.000', '0.000', '0.000', '0.000', '0.000', '0.000', '1.000', '0.000', '0.000', '0.000'] True\n('img/08_d.jpg', 8) [0 0 0 0 0 0 0 0 1 0 0] ['0.000', '0.000', '0.000', '0.000', '0.003', '0.000', '0.000', '0.006', '0.897', '0.093', '0.002'] True\n('img/08_u.jpg', 8) [0 0 0 0 0 0 0 0 1 0 0] ['0.000', '0.000', '0.000', '0.000', '0.043', '0.000', '0.000', '0.953', '0.003', '0.000', '0.000'] False\n('img/09_d.jpg', 9) [0 0 0 0 0 0 0 0 0 1 0] ['0.000', '0.000', '0.000', '0.000', '0.000', '0.000', '0.000', '0.003', '0.032', '0.963', '0.001'] True\n('img/09_u.jpg', 9) [0 0 0 0 0 0 0 0 0 1 0] ['0.000', '0.000', '0.000', '0.000', '0.000', '0.000', '0.000', '0.972', '0.001', '0.026', '0.000'] False\n('img/10_d.jpg', 10) [0 0 0 0 0 0 0 0 0 0 1] ['0.000', '0.000', '0.000', '0.000', '0.003', '0.000', '0.000', '0.001', '0.000', '0.000', '0.995'] True\n('img/10_u.jpg', 10) [0 0 0 0 0 0 0 0 0 0 1] ['0.000', '0.000', '0.000', '0.000', '0.001', '0.000', '0.000', '0.038', '0.000', '0.000', '0.961'] True\n"
        }
      ]
    },
    {
      "metadata": {
        "trusted": true
      },
      "cell_type": "code",
      "source": "",
      "execution_count": null,
      "outputs": []
    }
  ],
  "metadata": {
    "kernelspec": {
      "name": "python36",
      "display_name": "Python 3.6",
      "language": "python"
    },
    "language_info": {
      "mimetype": "text/x-python",
      "nbconvert_exporter": "python",
      "name": "python",
      "pygments_lexer": "ipython3",
      "version": "3.6.6",
      "file_extension": ".py",
      "codemirror_mode": {
        "version": 3,
        "name": "ipython"
      }
    }
  },
  "nbformat": 4,
  "nbformat_minor": 2
}